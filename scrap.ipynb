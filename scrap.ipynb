{
 "cells": [
  {
   "cell_type": "code",
   "execution_count": 1,
   "metadata": {},
   "outputs": [],
   "source": [
    "from params import get_params\n",
    "from data_doa import DoaData"
   ]
  },
  {
   "cell_type": "code",
   "execution_count": 3,
   "metadata": {},
   "outputs": [
    {
     "name": "stderr",
     "output_type": "stream",
     "text": [
      "usage: ipykernel_launcher.py [-h] [--run_name RUN_NAME] [--load LOAD]\n",
      "                             [--model_path MODEL_PATH] [--epochs EPOCHS]\n",
      "                             [--batch_size BATCH_SIZE] [--nworkers NWORKERS]\n",
      "                             [--logger LOGGER] [--lr LR]\n",
      "                             [--val_every_n_epochs VAL_EVERY_N_EPOCHS]\n",
      "                             [--gpus GPUS] [--max_epochs MAX_EPOCHS]\n",
      "                             [--overfit_batches OVERFIT_BATCHES] [--debug]\n",
      "                             [--monitor MONITOR] [--mode MODE]\n",
      "                             [--patience PATIENCE] [--min_delta MIN_DELTA]\n",
      "                             [--seed SEED] [--wd WD] [--schedule_lr]\n",
      "                             [--model MODEL] [--bi] [--dropout DROPOUT]\n",
      "                             [--rnn_layers RNN_LAYERS] [--up_factor UP_FACTOR]\n",
      "                             [--win_len WIN_LEN] [--hop_frac HOP_FRAC]\n",
      "                             [--kernel_size KERNEL_SIZE] [--nchan NCHAN]\n",
      "                             [--stride STRIDE] [--hidden_dim HIDDEN_DIM]\n",
      "                             [--model_max_lag MODEL_MAX_LAG]\n",
      "                             [--frontend_weights FRONTEND_WEIGHTS]\n",
      "                             [--backend_weights BACKEND_WEIGHTS] [--freeze]\n",
      "                             [--freeze_back] [--cc_win CC_WIN] [--lwin]\n",
      "                             [--perfect_start] [--cnn_fbank]\n",
      "                             [--cnn_layers CNN_LAYERS]\n",
      "                             [--backend_type {mlp,crdnn,rnn,cnn,max}]\n",
      "                             [--temporal_pool {mean,selfattn}]\n",
      "                             [--resample RESAMPLE] [--speech_root SPEECH_ROOT]\n",
      "                             [--rir_root RIR_ROOT] [--noise_root NOISE_ROOT]\n",
      "                             [--noise_type NOISE_TYPE]\n",
      "                             [--noise_prob NOISE_PROB]\n",
      "                             [--keyring_root KEYRING_ROOT] [--white_noise]\n",
      "                             [--snr SNR] [--sample_rate SAMPLE_RATE]\n",
      "                             [--fixed_duration FIXED_DURATION]\n",
      "                             [--middle MIDDLE] [--simple_input]\n",
      "                             [--n_angles N_ANGLES]\n",
      "                             [--n_look_angles N_LOOK_ANGLES] [--binary] [--sa]\n",
      "                             [--sa_time_width SA_TIME_WIDTH]\n",
      "                             [--sa_freq_width SA_FREQ_WIDTH]\n",
      "                             [--n_sa_time N_SA_TIME] [--n_sa_freq N_SA_FREQ]\n",
      "                             [--degrees] [--phat] [--input_feat INPUT_FEAT]\n",
      "                             [--window] [--norm_cc]\n",
      "                             [--train_sample_type TRAIN_SAMPLE_TYPE]\n",
      "                             [--val_sample_type VAL_SAMPLE_TYPE]\n",
      "                             [--sep_len SEP_LEN] [--sample_len SAMPLE_LEN]\n",
      "                             [--n_train_samples N_TRAIN_SAMPLES]\n",
      "                             [--n_val_samples N_VAL_SAMPLES]\n",
      "                             [--target_win TARGET_WIN] [--target_phat]\n",
      "ipykernel_launcher.py: error: unrecognized arguments: -f /home/jbajor/.local/share/jupyter/runtime/kernel-f04dee8c-6383-4e02-8a87-96ee826bfb89.json\n"
     ]
    },
    {
     "ename": "SystemExit",
     "evalue": "2",
     "output_type": "error",
     "traceback": [
      "An exception has occurred, use %tb to see the full traceback.\n",
      "\u001b[0;31mSystemExit\u001b[0m\u001b[0;31m:\u001b[0m 2\n"
     ]
    }
   ],
   "source": [
    "params = get_params()\n",
    "dataset = DoaData(params, \"train\")"
   ]
  }
 ],
 "metadata": {
  "kernelspec": {
   "display_name": "pytorch",
   "language": "python",
   "name": "python3"
  },
  "language_info": {
   "codemirror_mode": {
    "name": "ipython",
    "version": 3
   },
   "file_extension": ".py",
   "mimetype": "text/x-python",
   "name": "python",
   "nbconvert_exporter": "python",
   "pygments_lexer": "ipython3",
   "version": "3.10.9"
  },
  "orig_nbformat": 4,
  "vscode": {
   "interpreter": {
    "hash": "893fe46b93a2800923cd7905f25b95e8784232570cc04c302f4324935fb300f9"
   }
  }
 },
 "nbformat": 4,
 "nbformat_minor": 2
}
